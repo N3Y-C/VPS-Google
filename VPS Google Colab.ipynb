{
  "nbformat": 4,
  "nbformat_minor": 0,
  "metadata": {
    "colab": {
      "name": "KING-REMIX-VPS.ipynb",
      "provenance": [],
      "collapsed_sections": [],
      "machine_shape": "hm"
    },
    "kernelspec": {
      "name": "python3",
      "display_name": "Python 3"
    },
    "accelerator": "GPU"
  },
  "cells": [
    {
      "cell_type": "code",
      "metadata": {
        "id": "txj31kKiPZY1"
      },
      "source": [
        "!nvidia-smi"
      ],
      "execution_count": null,
      "outputs": []
    },
    {
      "cell_type": "code",
      "metadata": {
        "id": "4s46cC5YpdUS"
      },
      "source": [
        "! wget https://raw.githubusercontent.com/N3Y-C/VPS-Google/main/CRD_COLAB_EXE.sh &> /dev/null\r\n",
        "! chmod +x CRD_COLAB_EXE.sh\r\n",
        "! ./CRD_COLAB_EXE.sh"
      ],
      "execution_count": null,
      "outputs": []
    },
    {
      "cell_type": "code",
      "metadata": {
        "id": "Q7gNANWHpsUx"
      },
      "source": [
        "! sleep 43200"
      ],
      "execution_count": null,
      "outputs": []
    }
  ]
}
